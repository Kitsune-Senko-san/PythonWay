{
 "cells": [
  {
   "cell_type": "markdown",
   "id": "10ad940d",
   "metadata": {},
   "source": [
    "<h1 align=\"center\"><b> Set </b></h1>\n",
    "\n",
    "---\n",
    "\n",
    "\n",
    "   - #### Longest consecutive subsequence\n",
    "\n",
    "|• **Example** •|• **Input** •|• **Output** •|\n",
    "|:------------:|:------------:|:------------:|\n",
    "|     1        |   *t = {0, 2, 6, 1, 9, 4, 5, 3, 3}*  |  *7 -> (0 1 2 3 4 5 6)*  |\n",
    "|     2        |   *t = {1, 9, 3, 10, 4, 20, 2}*      |  *4 -> (1 2 3 4)*  |\n",
    "|     3        |   *t = {3, 9, 12, 6, 10}*            |  *1 -> (3)*|"
   ]
  },
  {
   "cell_type": "code",
   "execution_count": 1,
   "id": "8a723138",
   "metadata": {},
   "outputs": [
    {
     "name": "stdout",
     "output_type": "stream",
     "text": [
      "7 -> (0 1 2 3 4 5 6)\n",
      "4 -> (1 2 3 4)\n",
      "1 -> (3)\n"
     ]
    }
   ],
   "source": [
    "\"\"\"\n",
    "Given an array of positive integers. Find the length of the longest sub-sequence such that elements\n",
    "in the subsequence are consecutive integers, the consecutive numbers can be in any order.\n",
    "\n",
    "Example 1:\n",
    "Explanation:\n",
    "The consecutive numbers here are 0, 1, 2, 3, 4, 5, 6. These 7 numbers form the longest consecutive subsequence.\n",
    "\"\"\"\n",
    "\n",
    "\n",
    "def longest_subseq(t):\n",
    "    count = min(t)\n",
    "    check_tuple = set()\n",
    "    for i in range(max(t) + 1):\n",
    "        if i in t and count == i:\n",
    "            check_tuple.add(i)\n",
    "            count = i + 1\n",
    "    subsequence = \" \".join(str(x) for x in check_tuple)\n",
    "    print(f\"{len(check_tuple)} -> ({subsequence})\")\n",
    "\n",
    "\n",
    "def find_longest_subseq():\n",
    "    t = {0, 2, 6, 1, 9, 4, 5, 3, 3}\n",
    "    longest_subseq(t)\n",
    "\n",
    "    t = {1, 9, 3, 10, 4, 20, 2}\n",
    "    longest_subseq(t)\n",
    "\n",
    "    t = {3, 9, 12, 6, 10}\n",
    "    longest_subseq(t)\n",
    "\n",
    "\n",
    "find_longest_subseq()\n"
   ]
  },
  {
   "cell_type": "markdown",
   "id": "96b4b92c",
   "metadata": {},
   "source": [
    "---"
   ]
  },
  {
   "cell_type": "markdown",
   "id": "615e1e86",
   "metadata": {},
   "source": [
    "   - #### Triplet Sum in Set\n",
    "    \n",
    "|• **Example** •|• **Input** •|• **Output** •|\n",
    "|:------------:|:------------:|:------------:|\n",
    "|     1        | *x = 13* | *The triplet {1, 4, 8} in the array sums up to 13.* |\n",
    "|              | *t = {1, 4, 45, 6, 10, 8}*  |   |\n",
    "|     2        | *x = 10* | *The triplet {1, 3, 6} in the array sums up to 10.* |\n",
    "|              | *t = {1, 2, 4, 3, 6}*  |   |\n",
    "|     3        | *x = 32* | *It is impossible to make a triplet with the sum up to 32.* |\n",
    "|              | *t = {3, 9, 12, 6, 10}*  |   |"
   ]
  },
  {
   "cell_type": "code",
   "execution_count": 2,
   "id": "47d13f48",
   "metadata": {},
   "outputs": [
    {
     "name": "stdout",
     "output_type": "stream",
     "text": [
      "The triplet {8, 1, 4} in the array sums up to 13.\n",
      "The triplet {1, 3, 6} in the array sums up to 10.\n",
      "It is impossible to make a triplet with the sum up to 32.\n"
     ]
    }
   ],
   "source": [
    "\"\"\"\n",
    "Given set and an integer x. Find if there's a triplet in the array which sums up to the given integer x.\n",
    "\n",
    "Example 3:\n",
    "Explanation:\n",
    "The maximum possible value of the triplet {9, 12, 10} will be 31.\n",
    "\"\"\"\n",
    "\n",
    "\n",
    "def triplet(t, x):\n",
    "    result = set()\n",
    "    for i in t:\n",
    "        for j in t:\n",
    "            for k in t:\n",
    "                if i + j + k == x and i != j and i != k and j != k:\n",
    "                    result.add(i)\n",
    "                    result.add(j)\n",
    "                    result.add(k)\n",
    "                    return print(f\"The triplet {result} in the array sums up to {x}.\")\n",
    "\n",
    "    print(f'It is impossible to make a triplet with the sum up to {x}.')\n",
    "\n",
    "\n",
    "def find_triplet():\n",
    "    x = 13\n",
    "    t = {1, 4, 45, 6, 10, 8}\n",
    "    triplet(t, x)\n",
    "\n",
    "    x = 10\n",
    "    t = {1, 2, 4, 3, 6}\n",
    "    triplet(t, x)\n",
    "\n",
    "    x = 32\n",
    "    t = {3, 9, 12, 6, 10}\n",
    "    triplet(t, x)\n",
    "\n",
    "\n",
    "find_triplet()\n"
   ]
  }
 ],
 "metadata": {
  "kernelspec": {
   "display_name": "Python 3 (ipykernel)",
   "language": "python",
   "name": "python3"
  },
  "language_info": {
   "codemirror_mode": {
    "name": "ipython",
    "version": 3
   },
   "file_extension": ".py",
   "mimetype": "text/x-python",
   "name": "python",
   "nbconvert_exporter": "python",
   "pygments_lexer": "ipython3",
   "version": "3.10.7"
  }
 },
 "nbformat": 4,
 "nbformat_minor": 5
}
