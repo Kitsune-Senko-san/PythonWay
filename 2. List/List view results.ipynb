{
 "cells": [
  {
   "cell_type": "markdown",
   "id": "10ad940d",
   "metadata": {},
   "source": [
    "<h1 align=\"center\"><b> List </b></h1>\n",
    "\n",
    "---\n",
    "### Hard level:\n",
    "\n",
    "   - #### Next Greater Element\n",
    "\n",
    "|• **Example** •|• **Input** •|• **Output** •|\n",
    "|:-------------:|:------------:|:------------:|\n",
    "|     1         |    *N = 4*   |  *3 4 4 -1*  |\n",
    "|               |    *arr = [1, 3, 2, 4]*  |  |\n",
    "|     2         |    *N = 5*   |  *8 -1 1 3 -1*  |\n",
    "|               |    *arr = [6, 8, 0, 1, 3]*  |  |\n",
    "|     3         |    *N = 5*   |  *3 5 -1 4 -1*  |\n",
    "|               |    *[1, 3, 5, 2, 4]*      |    |"
   ]
  },
  {
   "cell_type": "code",
   "execution_count": 1,
   "id": "8a723138",
   "metadata": {},
   "outputs": [
    {
     "name": "stdout",
     "output_type": "stream",
     "text": [
      "3 4 4 -1\n",
      "8 -1 1 3 -1\n",
      "3 5 -1 4 -1\n"
     ]
    }
   ],
   "source": [
    "'''\n",
    "Given an array arr[ ] of size N having elements, the task is to find the next greater element for each element of the\n",
    "array in order of their appearance in the array.\n",
    "Next greater element of an element in the array is the nearest element on the right which is greater than the current element.\n",
    "If there does not exist next greater of current element, then next greater element for current element is -1.\n",
    "For example, next greater of the last element is always -1.\n",
    "\n",
    "Example 1:\n",
    "Explanation:\n",
    "In the array, the next larger element to 1 is 3 , 3 is 4 , 2 is 4 and for 4 ? since it doesn't exist, it is -1.\n",
    "\n",
    "Example 2:\n",
    "Explanation:\n",
    "In the array, the next larger element to 6 is 8, for 8 there is no larger elements hence it is -1, for 0 it is 1,\n",
    "for 1 it is 3 and then for 3 there is no larger element on right and hence -1.\n",
    "'''\n",
    "\n",
    "\n",
    "def nextLargerElement(N, arr):\n",
    "    i, j = 0, 0\n",
    "    result_list = []\n",
    "    for char in arr:\n",
    "        i += 1          # loop iterations\n",
    "        while j < N:\n",
    "            if i == N:                      # the last element is always equal to 1\n",
    "                result_list.append(-1)\n",
    "            if arr[j] == char:\n",
    "                pass\n",
    "            else:\n",
    "                if char < arr[j]:\n",
    "                    result_list.append(arr[j])\n",
    "                    break\n",
    "                elif char == max(arr):      # if this is the largest number in the list, it is -1\n",
    "                    result_list.append(-1)\n",
    "                    break\n",
    "            j += 1              # go through all the values in the loop\n",
    "        j = i\n",
    "    return print(*result_list)\n",
    "\n",
    "\n",
    "arr = [1, 3, 2, 4]\n",
    "nextLargerElement(4, arr)\n",
    "\n",
    "arr = [6, 8, 0, 1, 3]\n",
    "nextLargerElement(5, arr)\n",
    "\n",
    "arr = [1, 3, 5, 2, 4]\n",
    "nextLargerElement(5, arr)\n"
   ]
  },
  {
   "cell_type": "markdown",
   "id": "96b4b92c",
   "metadata": {},
   "source": [
    "---"
   ]
  },
  {
   "attachments": {
    "image.png": {
     "image/png": "[encoded data removed]"
    }
   },
   "cell_type": "markdown",
   "id": "6709e328",
   "metadata": {},
   "source": [
    "   - #### Spirally traversing a matrix\n",
    "\n",
    "![image.png](attachment:image.png)"
   ]
  },
  {
   "cell_type": "code",
   "execution_count": 2,
   "id": "2ed7b9cc",
   "metadata": {},
   "outputs": [
    {
     "name": "stdout",
     "output_type": "stream",
     "text": [
      "1 2 3 4 8 12 16 15 14 13 9 5 6 7 11 10 \n",
      "1 2 3 4 8 12 11 10 9 5 6 7 \n",
      "1 2 4 3 \n"
     ]
    }
   ],
   "source": [
    "\"\"\"\n",
    "Given a matrix of size row * column. Traverse the matrix in spiral form.\n",
    "\n",
    "Example 1:\n",
    "Input:\n",
    "    row, column = 4, 4\n",
    "    matrix = [[1, 2, 3, 4],\n",
    "              [5, 6, 7, 8],\n",
    "              [9, 10, 11, 12],\n",
    "              [13, 14, 15, 16]]\n",
    "Output:\n",
    "    1 2 3 4 8 12 16 15 14 13 9 5 6 7 11 10\n",
    "\n",
    "Example 2:\n",
    "Input:\n",
    "    row, column = 3, 4\n",
    "    matrix = [[1, 2, 3, 4],\n",
    "              [5, 6, 7, 8],\n",
    "              [9, 10, 11, 12]]\n",
    "Output:\n",
    "    1 2 3 4 8 12 11 10 9 5 6 7\n",
    "\n",
    "Example 3:\n",
    "Input:\n",
    "    row, column = 2, 2\n",
    "    matrix = [[1, 2],\n",
    "              [3, 4]]\n",
    "Output:\n",
    "    1 2 4 3\n",
    "\"\"\"\n",
    "\n",
    "\n",
    "def spirallyTraverse(matrix, row, column):\n",
    "    row_start, column_start = 0, 0\n",
    "    row_end = row - 1\n",
    "    column_end = column - 1\n",
    "    while row_start <= row_end and column_start <= column_end:\n",
    "        for i in range(column_start, column_end + 1):  # top side\n",
    "            print(matrix[row_start][i], end=' ')\n",
    "        row_start += 1\n",
    "\n",
    "        for i in range(row_start, row_end + 1):  # right side\n",
    "            print(matrix[i][column_end], end=' ')\n",
    "        column_end -= 1\n",
    "\n",
    "        if row_start <= row_end:  # bottom side\n",
    "            for i in range(column_end, column_start - 1, -1):\n",
    "                print(matrix[row_end][i], end=' ')\n",
    "            row_end -= 1\n",
    "\n",
    "        if column_start <= column_end:  # left side\n",
    "            for i in range(row_end, row_start - 1, -1):\n",
    "                print(matrix[i][column_start], end=' ')\n",
    "            column_start += 1\n",
    "    print()\n",
    "\n",
    "\n",
    "row, column = 4, 4\n",
    "matrix = [[1, 2, 3, 4],\n",
    "          [5, 6, 7, 8],\n",
    "          [9, 10, 11, 12],\n",
    "          [13, 14, 15, 16]]\n",
    "\n",
    "spirallyTraverse(matrix, row, column)\n",
    "\n",
    "row, column = 3, 4\n",
    "matrix = [[1, 2, 3, 4],\n",
    "          [5, 6, 7, 8],\n",
    "          [9, 10, 11, 12]]\n",
    "\n",
    "spirallyTraverse(matrix, row, column)\n",
    "\n",
    "row, column = 2, 2\n",
    "matrix = [[1, 2],\n",
    "          [3, 4]]\n",
    "\n",
    "spirallyTraverse(matrix, row, column)\n"
   ]
  },
  {
   "cell_type": "markdown",
   "id": "bf98d838",
   "metadata": {},
   "source": [
    "---"
   ]
  },
  {
   "cell_type": "markdown",
   "id": "5a000b85",
   "metadata": {},
   "source": [
    "   ### Medium level:\n",
    "\n",
    "   - #### Array Subset of another array\n",
    "\n",
    "|• **Example** •|• **Input** •|• **Output** •|\n",
    "|:-------------:|:------------:|:------------:|\n",
    "|     1         |    *a1 = [11, 1, 13, 21, 3, 7]*  |  *Yes* |\n",
    "|               |    *a2 = [11, 3, 7, 1]*          |        |\n",
    "|     2         |    *a1 = [1, 2, 3, 4, 5, 6]*     |  *Yes* |\n",
    "|               |    *a2 = [1, 2, 4]*              |        |\n",
    "|     3         |    *a1 = [10, 5, 2, 23, 19]*     |  *No*  |\n",
    "|               |    *a2 = [19, 5, 3]*             |        |"
   ]
  },
  {
   "cell_type": "code",
   "execution_count": 3,
   "id": "d985e361",
   "metadata": {},
   "outputs": [
    {
     "name": "stdout",
     "output_type": "stream",
     "text": [
      "Yes\n",
      "Yes\n",
      "No\n"
     ]
    }
   ],
   "source": [
    "\"\"\"\n",
    "Given two arrays: a1 and a2. Task is to check whether a2 is a subset of a1 or not. Both the arrays can be sorted or unsorted.\n",
    "You don't need to read input or print anything. Your task is to complete the function isSubset() which takes\n",
    "the array a1[], a2[], as inputs and return \"Yes\" if arr2 is subset of arr1 else return \"No\" if arr2 is not subset of arr1.\n",
    "\"\"\"\n",
    "\n",
    "\n",
    "def isSubset(a1, a2):\n",
    "    for char in a2:\n",
    "        if char not in a1:\n",
    "            print(\"No\")\n",
    "            break\n",
    "    else:\n",
    "        print(\"Yes\")\n",
    "\n",
    "\n",
    "a1 = [11, 1, 13, 21, 3, 7]\n",
    "a2 = [11, 3, 7, 1]\n",
    "isSubset(a1, a2)\n",
    "\n",
    "a1 = [1, 2, 3, 4, 5, 6]\n",
    "a2 = [1, 2, 4]\n",
    "isSubset(a1, a2)\n",
    "\n",
    "a1 = [10, 5, 2, 23, 19]\n",
    "a2 = [19, 5, 3]\n",
    "isSubset(a1, a2)\n"
   ]
  },
  {
   "cell_type": "markdown",
   "id": "56707d8e",
   "metadata": {},
   "source": [
    "---"
   ]
  },
  {
   "cell_type": "markdown",
   "id": "2595d785",
   "metadata": {},
   "source": [
    "   - #### Odd, even list indices\n",
    "\n",
    "|• **Example** •|• **Input** •|• **Output** •|\n",
    "|:-------------:|:------------:|:------------:|\n",
    "|  1 |*first_list = [40, 45, 60, 10, 35, 20, 40, 45, 10, 10]*|*[40, 60, 35, 10, 20, 45, 30, 75]*|\n",
    "| |  *second_list = [10, 20, 40, 45, 25, 30, 60, 75, 35]*      |      |\n",
    "|  2 |*first_list = [10, 20, 40, 45, 25, 30, 60, 75, 35]*|*[10, 40, 25, 60, 35, 45, 20]*|\n",
    "| |  *second_list = [40, 45, 60, 10, 35, 20, 40, 45, 10, 10]*  |      |"
   ]
  },
  {
   "cell_type": "code",
   "execution_count": 4,
   "id": "d14a8fb2",
   "metadata": {},
   "outputs": [
    {
     "name": "stdout",
     "output_type": "stream",
     "text": [
      "[40, 60, 35, 10, 20, 45, 30, 75]\n",
      "[10, 40, 25, 60, 35, 45, 20]\n"
     ]
    }
   ],
   "source": [
    "\"\"\"\n",
    "Given two lists of numbers, write a program that will create a new list so that the new list contains numbers\n",
    "at odd indices from the first list and even indices from the second list without repetition.\n",
    "\"\"\"\n",
    "\n",
    "\n",
    "def exponent(first_list, second_list):\n",
    "    first_list = first_list[::2]\n",
    "    second_list = second_list[1::2]\n",
    "    new_list = []\n",
    "    for i in range(len(first_list)):\n",
    "        if first_list[i] not in new_list:\n",
    "            new_list.append(first_list[i])\n",
    "        else:\n",
    "            continue\n",
    "    for i in range(len(second_list)):\n",
    "        if second_list[i] not in new_list:\n",
    "            new_list.append(second_list[i])\n",
    "        else:\n",
    "            continue\n",
    "    return new_list\n",
    "\n",
    "\n",
    "first_list = [40, 45, 60, 10, 35, 20, 40, 45, 10, 10]\n",
    "second_list = [10, 20, 40, 45, 25, 30, 60, 75, 35]\n",
    "print(exponent(first_list, second_list))\n",
    "\n",
    "\n",
    "first_list = [10, 20, 40, 45, 25, 30, 60, 75, 35]\n",
    "second_list = [40, 45, 60, 10, 35, 20, 40, 45, 10, 10]\n",
    "print(exponent(first_list, second_list))\n"
   ]
  },
  {
   "cell_type": "markdown",
   "id": "836e4045",
   "metadata": {},
   "source": [
    "---"
   ]
  },
  {
   "cell_type": "markdown",
   "id": "c33d908c",
   "metadata": {},
   "source": [
    "   - #### Row with max 1s\n"
   ]
  },
  {
   "cell_type": "code",
   "execution_count": 5,
   "id": "6e652fa3",
   "metadata": {},
   "outputs": [
    {
     "name": "stdout",
     "output_type": "stream",
     "text": [
      "2\n",
      "0 1 2\n",
      "0\n"
     ]
    }
   ],
   "source": [
    "\"\"\"\n",
    "Given a boolean 2D array of n x m dimensions where each row is sorted.\n",
    "Find the 0-based index of the first row that has the maximum number of 1's.\n",
    "\n",
    "Example 1:\n",
    "Input:\n",
    "    N = 4 , M = 4\n",
    "    array = [[0, 1, 1, 1],\n",
    "             [0, 0, 1, 0],\n",
    "             [1, 1, 1, 1],\n",
    "             [1, 1, 0, 0]]\n",
    "Output:\n",
    "    2\n",
    "\n",
    "Example 2:\n",
    "Input:\n",
    "    N = 3, M = 3\n",
    "    array = [[0, 0, 1],\n",
    "             [0, 1, 0],\n",
    "             [1, 0, 0]]\n",
    "Output:\n",
    "    0 1 2\n",
    "\n",
    "Example 3:\n",
    "Input:\n",
    "    N = 2, M = 2\n",
    "    array = [[0, 1],\n",
    "             [0, 0]]\n",
    "Output:\n",
    "    0\n",
    "\"\"\"\n",
    "\n",
    "\n",
    "def rowWithMax1s(array, N, M, check=1):\n",
    "    result_list = []\n",
    "    while check > 0:\n",
    "        for i in range(N):\n",
    "            if array[i].count(1) == M:\n",
    "                result_list.append(i)\n",
    "                check = 0\n",
    "                continue\n",
    "        else:\n",
    "            M -= 1\n",
    "            continue\n",
    "    return print(*result_list)\n",
    "\n",
    "\n",
    "N, M = 4, 4\n",
    "array = [[0, 1, 1, 1],\n",
    "         [0, 0, 1, 0],\n",
    "         [1, 1, 1, 1],\n",
    "         [1, 1, 0, 0]]\n",
    "rowWithMax1s(array, N, M)\n",
    "\n",
    "N, M = 3, 3\n",
    "array = [[0, 0, 1],\n",
    "         [0, 1, 0],\n",
    "         [1, 0, 0]]\n",
    "rowWithMax1s(array, N, M)\n",
    "\n",
    "N, M = 2, 2\n",
    "array = [[0, 1],\n",
    "         [0, 0]]\n",
    "rowWithMax1s(array, N, M)\n"
   ]
  }
 ],
 "metadata": {
  "kernelspec": {
   "display_name": "Python 3 (ipykernel)",
   "language": "python",
   "name": "python3"
  },
  "language_info": {
   "codemirror_mode": {
    "name": "ipython",
    "version": 3
   },
   "file_extension": ".py",
   "mimetype": "text/x-python",
   "name": "python",
   "nbconvert_exporter": "python",
   "pygments_lexer": "ipython3",
   "version": "3.10.7"
  }
 },
 "nbformat": 4,
 "nbformat_minor": 5
}
