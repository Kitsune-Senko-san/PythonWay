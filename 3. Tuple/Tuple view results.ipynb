{
 "cells": [
  {
   "cell_type": "markdown",
   "id": "10ad940d",
   "metadata": {},
   "source": [
    "<h1 align=\"center\"><b> Tuple </b></h1>\n",
    "\n",
    "---\n",
    "\n",
    "\n",
    "   - #### Extract tuples with K digit elements\n",
    "\n",
    "|• **Example** •|• **Input** •|• **Output** •|\n",
    "|:------------:|:------------:|:------------:|\n",
    "|     1        |    *K = 2*   |  *(34, 55) (12, 45) (78,)*  |\n",
    "|              |*list_test = [(54, 2), (34, 55), (2, 3), (12, 45), (78,)]*  |  |\n",
    "|     2        |    *K = 3*   |  *(782,)*  |\n",
    "|              |*list_test = [(54, 2), (34, 55), (222, 23), (12, 45), (782, )]*| |"
   ]
  },
  {
   "cell_type": "code",
   "execution_count": 1,
   "id": "8a723138",
   "metadata": {},
   "outputs": [
    {
     "name": "stdout",
     "output_type": "stream",
     "text": [
      "(34, 55) (12, 45) (78,) \n",
      "(782,) \n"
     ]
    }
   ],
   "source": [
    "\"\"\"\n",
    "Given a list of tuples, extract all tuples having K digit elements.\n",
    "\n",
    "Example 1:\n",
    "Explanation : All tuples have numbers with 2 digits.\n",
    "\n",
    "Example 2:\n",
    "Explanation : All tuples have numbers with 3 digits.\n",
    "\"\"\"\n",
    "\n",
    "\n",
    "def digit_elements(list_test, K):\n",
    "    for sub_list in list_test:\n",
    "        if all(len(str(element)) == K for element in sub_list):\n",
    "            print(sub_list, end=' ')\n",
    "    print()\n",
    "\n",
    "\n",
    "def test_digit_elements():\n",
    "    K = 2\n",
    "    list_test = [(54, 2), (34, 55), (2, 3), (12, 45), (78,)]\n",
    "    digit_elements(list_test, K)\n",
    "\n",
    "    K = 3\n",
    "    list_test = [(54, 2), (34, 55), (222, 23), (12, 45), (782, )]\n",
    "    digit_elements(list_test, K)\n",
    "\n",
    "\n",
    "test_digit_elements()\n"
   ]
  },
  {
   "cell_type": "markdown",
   "id": "96b4b92c",
   "metadata": {},
   "source": [
    "---"
   ]
  }
 ],
 "metadata": {
  "kernelspec": {
   "display_name": "Python 3 (ipykernel)",
   "language": "python",
   "name": "python3"
  },
  "language_info": {
   "codemirror_mode": {
    "name": "ipython",
    "version": 3
   },
   "file_extension": ".py",
   "mimetype": "text/x-python",
   "name": "python",
   "nbconvert_exporter": "python",
   "pygments_lexer": "ipython3",
   "version": "3.10.7"
  }
 },
 "nbformat": 4,
 "nbformat_minor": 5
}
