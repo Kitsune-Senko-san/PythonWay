{
 "cells": [
  {
   "cell_type": "markdown",
   "id": "10ad940d",
   "metadata": {},
   "source": [
    "<h1 align=\"center\"><b> String </b></h1>\n",
    "\n",
    "---\n",
    "### Hard level:\n",
    "\n",
    "   - #### Nth number made of prime digits\n",
    "\n",
    "|• **Example** •|• **Input** •|• **Output** •|\n",
    "|:-------------:|:------------:|:------------:|\n",
    "|     1         |     *10*     |    *33*      |\n",
    "|     2         |     *21*     |    *222*     |"
   ]
  },
  {
   "cell_type": "code",
   "execution_count": 1,
   "id": "8a723138",
   "metadata": {},
   "outputs": [
    {
     "name": "stdout",
     "output_type": "stream",
     "text": [
      "33\n",
      "222\n"
     ]
    }
   ],
   "source": [
    "\"\"\"\n",
    "Given a number 'N'. The task is to find the Nth number whose each digit is a prime number i.e 2, 3, 5, 7.\n",
    "In other words you have to find nth number of this sequence : 2, 3, 5, 7, 22, 23 ,.. and so on.\n",
    "\n",
    "\n",
    "Explanation:\n",
    "    10th number in the sequence of numbers whose each digit is prime is 33.\n",
    "    \n",
    "Explanation:\n",
    "    21st number in the sequence of numbers whose each digit is prime is 222.\n",
    "\"\"\"\n",
    "\n",
    "\n",
    "def primeDigits(N):\n",
    "    first_primes = [2, 3, 5, 7]         # initial primes, all other numbers will consist of them\n",
    "    list_of_primes = first_primes.copy()    # copying the initial values\n",
    "    counter = 0\n",
    "    while counter < N:\n",
    "        x = list_of_primes[counter]         # searching through the initial values and then the added ones\n",
    "        for i in first_primes:          # searching for prime numbers in a loop (2, 3, 5, 7, 2, 3, 5, 7...)\n",
    "            new_list_item = x * 10 + i      # forming new prime numbers from these values (22, 23, 25, 27, 32, 33, 35, 37...)\n",
    "            if new_list_item not in list_of_primes:\n",
    "                list_of_primes.append(new_list_item)\n",
    "        counter += 1\n",
    "    print(list_of_primes[counter - 1])\n",
    "\n",
    "\n",
    "primeDigits(10)\n",
    "primeDigits(21)"
   ]
  },
  {
   "cell_type": "markdown",
   "id": "9f5181a5",
   "metadata": {},
   "source": [
    "---"
   ]
  },
  {
   "cell_type": "markdown",
   "id": "9ad5be61",
   "metadata": {},
   "source": [
    "   - #### Restrictive Candy Crush\n",
    "\n",
    "|• **Example** •|• **Input** •|• **Output** •|\n",
    "|:-------------:|:------------:|:------------:|\n",
    "|     1         |     *k = 2*  |    *gksforgks*      |\n",
    "|               |  *s = \"geeksforgeeks\"*     |       |\n",
    "|     2         |     *k = 2*     |  *ggsforgeks*    |\n",
    "|               |     *s = \"geegsforgeeeks\"*   |     |\n",
    "|     3         |     *k = 3*     |  *gegsforgks*    |\n",
    "|               |     *s = \"geeeegsforgeeeks\"*   |   |"
   ]
  },
  {
   "cell_type": "code",
   "execution_count": 2,
   "id": "70115d3b",
   "metadata": {},
   "outputs": [
    {
     "name": "stdout",
     "output_type": "stream",
     "text": [
      "gksforgks\n",
      "ggsforgeks\n",
      "gegsforgks\n"
     ]
    }
   ],
   "source": [
    "\"\"\"\n",
    "Given a string s and an integer k, the task is to reduce the string by applying the following operation:\n",
    "Choose a group of k consecutive identical characters and remove them.\n",
    "\n",
    "\n",
    "Explanation:\n",
    "Modified String after each step: \"geeksforgeeks\" -> \"gksforgks\"\n",
    "\n",
    "Explanation:\n",
    "Modified String after each step: \"geegsforgeeeks\" -> \"ggsforgeks\"\n",
    "\"\"\"\n",
    "\n",
    "\n",
    "def reducedString(string, k):\n",
    "    result_list = []\n",
    "    i = 0\n",
    "    while i < len(string):\n",
    "        current_letter = string[i]\n",
    "        counter_k = 1\n",
    "        j = i + 1\n",
    "        while j < len(string):\n",
    "            # checking 2 letters and ignoring repetitions according to the k value\n",
    "            if string[j] == current_letter and counter_k < k:\n",
    "                counter_k += 1\n",
    "                j += 1\n",
    "            else:\n",
    "                break\n",
    "        if counter_k < k:\n",
    "            result_list.append(current_letter)\n",
    "        i = j             # starting the check from the correct value\n",
    "    return ''.join(result_list)\n",
    "\n",
    "\n",
    "k = 2\n",
    "string = \"geeksforgeeks\"\n",
    "print(reducedString(string, k))\n",
    "\n",
    "k = 2\n",
    "string = \"geegsforgeeeks\"\n",
    "print(reducedString(string, k))\n",
    "\n",
    "k = 3\n",
    "string = \"geeeegsforgeeeks\"\n",
    "print(reducedString(string, k))\n"
   ]
  },
  {
   "cell_type": "markdown",
   "id": "96b4b92c",
   "metadata": {},
   "source": [
    "---"
   ]
  },
  {
   "cell_type": "markdown",
   "id": "5a000b85",
   "metadata": {},
   "source": [
    "   ### Medium level:\n",
    "\n",
    "   - #### Anagram\n",
    "\n",
    "|• **Example** •|• **Input** •|• **Output** •|\n",
    "|:-------------:|:-----------------------:|:------------:|\n",
    "|     1         |    *a = geeksforgeeks*    |    *YES*     |\n",
    "|               |    *b = forgeeksgeeks*    |              |\n",
    "|---------------|---------------------------|--------------|\n",
    "|     2         |    *a = allergy*          |    *NO*      |\n",
    "|               |    *b = allergic*         |              |"
   ]
  },
  {
   "cell_type": "code",
   "execution_count": 3,
   "id": "d985e361",
   "metadata": {},
   "outputs": [
    {
     "name": "stdout",
     "output_type": "stream",
     "text": [
      "YES\n",
      "NO\n"
     ]
    }
   ],
   "source": [
    "\"\"\"\n",
    "Given two strings a and b consisting of lowercase characters. The task is to check whether two given strings are an anagram of\n",
    "each other or not.\n",
    "An anagram of a string is another string that contains the same characters, only the order of characters can be different.\n",
    "For example, act and tac are an anagram of each other.\n",
    "\n",
    "\n",
    "Explanation:\n",
    "    Both the string have same characters with same frequency. So, both are anagrams.\n",
    "\n",
    "Explanation:\n",
    "    Characters in both the strings are not same, so they are not anagrams.\n",
    "\"\"\"\n",
    "\n",
    "a = \"geeksforgeeks\"\n",
    "b = \"forgeeksgeeks\"\n",
    "\n",
    "\n",
    "def isAnagram():\n",
    "    if len(a) == len(b):        # if the strings are not of the same length, they cannot be the same\n",
    "        a_sorted = ''.join(sorted(a))\n",
    "        b_sorted = ''.join(sorted(b))\n",
    "        if a_sorted == b_sorted:\n",
    "            print(\"YES\")\n",
    "        else:\n",
    "            print(\"NO\")\n",
    "    else:\n",
    "        print(\"NO\")\n",
    "\n",
    "\n",
    "isAnagram()\n",
    "\n",
    "\n",
    "a = \"allergy\"\n",
    "b = \"allergic\"\n",
    "\n",
    "\n",
    "isAnagram()"
   ]
  },
  {
   "cell_type": "markdown",
   "id": "56707d8e",
   "metadata": {},
   "source": [
    "---"
   ]
  },
  {
   "cell_type": "markdown",
   "id": "2595d785",
   "metadata": {},
   "source": [
    "   - #### Implement Atoi\n",
    "\n",
    "|• **Example** •|• **Input** •|• **Output** •|\n",
    "|:-------------:|:------------:|:-----------:|\n",
    "|     1         |    *123*     |    *123*    |\n",
    "|     2         |    *21a*     |    *-1*     |\n",
    "|     3         |    *--37*    |    *-1*     |"
   ]
  },
  {
   "cell_type": "code",
   "execution_count": 4,
   "id": "d14a8fb2",
   "metadata": {},
   "outputs": [
    {
     "name": "stdout",
     "output_type": "stream",
     "text": [
      "enter number: 123\n",
      "123\n",
      "enter number: 21a\n",
      "-1\n",
      "enter number: --37\n",
      "-1\n"
     ]
    }
   ],
   "source": [
    "\"\"\"\n",
    "Complete the function atoi() which takes a string as input parameter and returns integer value of it.\n",
    "if the input string is not a numerical string then returns -1.\n",
    "Note: You are not allowed to use inbuilt function.\n",
    "Note 2: Numerical strings are the string where either every character is in between 0-9 or where the first character is '-'\n",
    "and the rest all characters are in between 0-9.\n",
    "\"\"\"\n",
    "\n",
    "\n",
    "def atoi():\n",
    "    try:\n",
    "        string = int(input(\"enter number: \"))\n",
    "        if -1 >= string or string >= 0:\n",
    "            print(string)\n",
    "        else:\n",
    "            print(-1)\n",
    "    except ValueError:\n",
    "        print(-1)\n",
    "\n",
    "\n",
    "atoi()\n",
    "atoi()\n",
    "atoi()\n"
   ]
  },
  {
   "cell_type": "markdown",
   "id": "638f7b45",
   "metadata": {},
   "source": [
    "---"
   ]
  },
  {
   "cell_type": "markdown",
   "id": "c320b401",
   "metadata": {},
   "source": [
    "   - #### Remove all duplicates from a given string\n",
    "\n",
    "|• **Example** •|• **Input** •|• **Output** •|\n",
    "|:-------------:|:----------------------:|:-----------------:|\n",
    "|     1         |    *geeksforgeeks*     |    *geksfor*      |\n",
    "|     2         |    *HappyNewYear*      |    *HapyNewYr*    |"
   ]
  },
  {
   "cell_type": "code",
   "execution_count": 5,
   "id": "3a0b1d53",
   "metadata": {},
   "outputs": [
    {
     "name": "stdout",
     "output_type": "stream",
     "text": [
      "geksfor\n",
      "HapyNewYr\n"
     ]
    }
   ],
   "source": [
    "\"\"\"\n",
    "Given a string Str which may contains lowercase and uppercase characters.\n",
    "The task is to remove all duplicate characters from the string and find the resultant string.\n",
    "The order of remaining characters in the output should be same as in the original string.\n",
    "\n",
    "\n",
    "Explanation:\n",
    "    After removing duplicate characters such as e, k, g, s, we have string as \"geksfor\".\n",
    "\n",
    "Explanation:\n",
    "    After removing duplicate characters such as p, e, a, we have string as \"HapyNewYr\".\n",
    "\"\"\"\n",
    "\n",
    "string = \"geeksforgeeks\"\n",
    "\n",
    "\n",
    "def removeDuplicates():\n",
    "    result = ''\n",
    "    for char in string:\n",
    "        if char not in result:      # letters will be added without repetition, regardless of case\n",
    "            result += char\n",
    "    print(result)\n",
    "\n",
    "\n",
    "removeDuplicates()\n",
    "\n",
    "\n",
    "string = \"HappyNewYear\"\n",
    "\n",
    "\n",
    "removeDuplicates()\n"
   ]
  },
  {
   "cell_type": "markdown",
   "id": "f09504f8",
   "metadata": {},
   "source": [
    "---"
   ]
  },
  {
   "cell_type": "markdown",
   "id": "31efadae",
   "metadata": {},
   "source": [
    "   - #### Run Length Encoding\n",
    "\n",
    "|• **Example** •|• **Input** •|• **Output** •|\n",
    "|:-------------:|:------------------------:|:-------------------:|\n",
    "|     1         |    *wwwwaaadexxxxxx*     |    *w4a3d1e1x6*     |\n",
    "|     2         |    *aaaabbbccc*          |    *a4b3c3*         |\n",
    "|     3         |    *abbbcdddd*           |    *a1b3c1d4*       |"
   ]
  },
  {
   "cell_type": "code",
   "execution_count": 6,
   "id": "49d2be2b",
   "metadata": {},
   "outputs": [
    {
     "name": "stdout",
     "output_type": "stream",
     "text": [
      "> wwwwaaadexxxxxx\n",
      "w4a3d1e1x6\n",
      "> aaaabbbccc\n",
      "a4b3c3\n",
      "> abbbcdddd\n",
      "a1b3c1d4"
     ]
    }
   ],
   "source": [
    "\"\"\"\n",
    "Given a string, Your task is to complete the function encode that returns the run length encoded string for the given string.\n",
    "e.g. if the input string is “wwwwaaadexxxxxx”, then the function should return “w4a3d1e1x6″.\n",
    "\n",
    "Example 1:\n",
    "Input:\n",
    "    string = aaaabbbccc\n",
    "Output:\n",
    "    a4b3c3\n",
    "Explanation:\n",
    "    a repeated 4 times consecutively b 3 times, c also 3 times.\n",
    "\n",
    "Example 2:\n",
    "Input:\n",
    "    string = abbbcdddd\n",
    "Output:\n",
    "    a1b3c1d4\n",
    "\"\"\"\n",
    "\n",
    "\n",
    "def encode(string):\n",
    "    i = 0\n",
    "    while i != len(string):\n",
    "        count_letter = string.count(string[i])\n",
    "        print(string[i], count_letter, end='', sep='')\n",
    "        i += count_letter\n",
    "\n",
    "\n",
    "encode(input('> '))\n",
    "\n",
    "encode(input('\\n> '))\n",
    "\n",
    "encode(input('\\n> '))\n"
   ]
  },
  {
   "cell_type": "markdown",
   "id": "b83b3ca1",
   "metadata": {},
   "source": [
    "---"
   ]
  },
  {
   "cell_type": "markdown",
   "id": "94ce8d82",
   "metadata": {},
   "source": [
    "   - #### Validate an IP Address\n",
    "\n",
    "|• **Example** •|• **Input** •|• **Output** •|\n",
    "|:-------------:|:------------------------:|:-------------------:|\n",
    "|     1         |    *222.111.111.111*     |    *Valid*          |\n",
    "|     2         |    *5555..555*           |    *No valid*       |\n",
    "|     3         |    *0.0.01.0*            |    *No valid*       |\n",
    "|     4         |    *1234*                |    *No valid*       |"
   ]
  },
  {
   "cell_type": "code",
   "execution_count": 7,
   "id": "6bc53cbe",
   "metadata": {},
   "outputs": [
    {
     "name": "stdout",
     "output_type": "stream",
     "text": [
      "IPv4 address = 222.111.111.111\n",
      "Valid\n",
      "IPv4 address = 5555..555\n",
      "No valid\n",
      "IPv4 address = 0.0.01.0\n",
      "No valid\n",
      "IPv4 address = 1234\n",
      "No valid\n"
     ]
    }
   ],
   "source": [
    "\"\"\"\n",
    "Write a program to Validate an IPv4 Address.\n",
    "A valid IPv4 Address is of the form x1.x2.x3.x4 where 0 <= (x1, x2, x3, x4) <= 255.\n",
    "Thus, we can write the generalized form of an IPv4 address as (0-255).(0-255).(0-255).(0-255).\n",
    "Note: Here we are considering numbers only from 0 to 255 and any additional leading zeroes will be considered invalid.\n",
    "\"\"\"\n",
    "\n",
    "string = input(\"IPv4 address = \")\n",
    "\n",
    "\n",
    "def isValid():\n",
    "    str_list = string.split(\".\")        # split the string into a list by the delimiter .\n",
    "    if len(str_list) == 4:\n",
    "        for i in str_list:\n",
    "            if len(i) > 1 and int(i[0]) == 0:       # additional leading zeroes will be considered invalid (0.01.0.0)\n",
    "                print(\"No valid\")\n",
    "                break\n",
    "            elif 0 <= int(i) <= 255 and 1 <= len(i) <= 3:       # check for compliance (0-255).(0-255).(0-255).(0-255)\n",
    "                continue\n",
    "            else:\n",
    "                print(\"No valid\")\n",
    "                break\n",
    "        else:\n",
    "            print(\"Valid\")\n",
    "    else:\n",
    "        print(\"No valid\")\n",
    "\n",
    "\n",
    "isValid()\n",
    "\n",
    "string = input(\"IPv4 address = \")\n",
    "\n",
    "isValid()\n",
    "\n",
    "string = input(\"IPv4 address = \")\n",
    "\n",
    "isValid()\n",
    "\n",
    "string = input(\"IPv4 address = \")\n",
    "\n",
    "isValid()\n"
   ]
  }
 ],
 "metadata": {
  "kernelspec": {
   "display_name": "Python 3 (ipykernel)",
   "language": "python",
   "name": "python3"
  },
  "language_info": {
   "codemirror_mode": {
    "name": "ipython",
    "version": 3
   },
   "file_extension": ".py",
   "mimetype": "text/x-python",
   "name": "python",
   "nbconvert_exporter": "python",
   "pygments_lexer": "ipython3",
   "version": "3.10.7"
  }
 },
 "nbformat": 4,
 "nbformat_minor": 5
}
