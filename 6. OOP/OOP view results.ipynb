{
 "cells": [
  {
   "cell_type": "markdown",
   "id": "10ad940d",
   "metadata": {},
   "source": [
    "<h1 align=\"center\"><b> OOP </b></h1>\n",
    "\n",
    "---\n",
    "\n",
    "\n",
    "   - #### Bank account"
   ]
  },
  {
   "cell_type": "code",
   "execution_count": 1,
   "id": "8a723138",
   "metadata": {},
   "outputs": [
    {
     "name": "stdout",
     "output_type": "stream",
     "text": [
      "Account owner:    Jose\n",
      "Account balance:  $100\n",
      "Deposit Accepted, total balance  ->  $150\n",
      "Withdrawal Accepted, balance decreases  ->  -$150\n",
      "Account owner:    Jose\n",
      "Account balance:  $0 \n",
      "\n",
      "Account owner:    Julie\n",
      "Account balance:  $5000\n",
      "Deposit Accepted, total balance  ->  $6000\n",
      "Funds Unavailable! The card doesn't have a sufficient amount ($6001)\n",
      "The card balance has not changed\n",
      "\n",
      "Account owner:    Bob\n",
      "Account balance:  $670\n",
      "There was no deposit\n",
      "Withdrawal Accepted, balance decreases  ->  -$600\n",
      "Account owner:    Bob\n",
      "Account balance:  $70 \n",
      "\n"
     ]
    }
   ],
   "source": [
    "\"\"\"\n",
    "For this challenge, create a bank account class that has two attributes:\n",
    "   - owner\n",
    "   - balance\n",
    "\n",
    "and two methods:\n",
    "   - deposit\n",
    "   - withdraw\n",
    "\n",
    "As an added requirement, withdrawals may not exceed the available balance.\n",
    "Instantiate your class, make several deposits and withdrawals, and test to make sure the account can't be overdrawn.\n",
    "\"\"\"\n",
    "\n",
    "\n",
    "class Account:\n",
    "    def __init__(self, owner, balance):\n",
    "        self.owner = owner\n",
    "        self.balance = balance\n",
    "\n",
    "    def deposit(self, new_deposit=0):\n",
    "        print(acc1)\n",
    "        self.balance += new_deposit\n",
    "        if new_deposit != 0:\n",
    "            print(\"Deposit Accepted, total balance  ->  ${}\".format(self.balance))\n",
    "        else:\n",
    "            print(\"There was no deposit\")\n",
    "\n",
    "    def withdraw(self, try_withdraw):\n",
    "        if self.balance < try_withdraw:\n",
    "            print(\"Funds Unavailable! The card doesn't have a sufficient amount (${})\".format(try_withdraw))\n",
    "            print(\"The card balance has not changed\\n\")\n",
    "        else:\n",
    "            print(\"Withdrawal Accepted, balance decreases  ->  -${}\".format(try_withdraw))\n",
    "            self.balance -= try_withdraw\n",
    "            print(acc1, \"\\n\")\n",
    "\n",
    "    def __str__(self):\n",
    "        return f\"Account owner:    {self.owner}\\nAccount balance:  ${self.balance}\"\n",
    "\n",
    "\n",
    "acc1 = Account(\"Jose\", 100)\n",
    "acc1.deposit(50)\n",
    "acc1.withdraw(150)\n",
    "\n",
    "\n",
    "acc1 = Account(\"Julie\", 5000)\n",
    "acc1.deposit(1000)\n",
    "acc1.withdraw(6001)\n",
    "\n",
    "\n",
    "acc1 = Account(\"Bob\", 670)\n",
    "acc1.deposit()\n",
    "acc1.withdraw(600)\n"
   ]
  },
  {
   "cell_type": "markdown",
   "id": "96b4b92c",
   "metadata": {},
   "source": [
    "---"
   ]
  },
  {
   "cell_type": "markdown",
   "id": "615e1e86",
   "metadata": {},
   "source": [
    "   - #### Slope & dictance of the line"
   ]
  },
  {
   "cell_type": "code",
   "execution_count": 2,
   "id": "47d13f48",
   "metadata": {},
   "outputs": [
    {
     "name": "stdout",
     "output_type": "stream",
     "text": [
      "9.433981132056603\n",
      "1.6\n"
     ]
    }
   ],
   "source": [
    "\"\"\"\n",
    "Fill in the Line class methods to accept coordinates as a list and tuple and return the slope and distance of the line\n",
    "\"\"\"\n",
    "\n",
    "\n",
    "class Line:\n",
    "    def __init__(self, coor1, coor2):\n",
    "        self.coor1 = coor1\n",
    "        self.coor2 = coor2\n",
    "\n",
    "    def distance(self):\n",
    "        x1, y1 = self.coor1\n",
    "        x2, y2 = self.coor2\n",
    "        return ((x2 - x1) ** 2 + (y2 - y1) ** 2) ** 0.5\n",
    "\n",
    "    def slope(self):\n",
    "        x1, y1 = self.coor1\n",
    "        x2, y2 = self.coor2\n",
    "        return (y2 - y1) / (x2 - x1)\n",
    "\n",
    "\n",
    "coordinate1 = [3, 2]\n",
    "coordinate2 = (8, 10)\n",
    "\n",
    "li = Line(coordinate1, coordinate2)\n",
    "\n",
    "print(li.distance())\n",
    "print(li.slope())\n"
   ]
  },
  {
   "cell_type": "markdown",
   "id": "61c532eb",
   "metadata": {},
   "source": [
    "---"
   ]
  },
  {
   "cell_type": "markdown",
   "id": "d93bf69e",
   "metadata": {},
   "source": [
    "   - #### Time difference"
   ]
  },
  {
   "cell_type": "code",
   "execution_count": 3,
   "id": "d1e9bd0b",
   "metadata": {},
   "outputs": [
    {
     "name": "stdout",
     "output_type": "stream",
     "text": [
      "3\n",
      "1 0 0 0 2 3 4 5\n",
      "5 3 23 22 24 4 20 45\n",
      "8 4 6 47 9 11 51 13\n",
      "(1 3 4 5) (19 0 57 23) (1 7 44 26)\n"
     ]
    }
   ],
   "source": [
    "\"\"\"\n",
    "Suppose, we are given two timestamps - for example, when the train or ferry boat starts its travel and when it finishes.\n",
    "This may look like:\n",
    "start: May 3, 17:08:30\n",
    "end  : May 8, 12:54:15\n",
    "\n",
    "and we are curious to know, how much time (in days, hours, minutes and seconds)\n",
    " is spent in traveling (perhaps, to choose faster variant). How this could be achieved?\n",
    "\n",
    "One of the easiest way is:\n",
    "    - convert both timestamps to big numbers, representing seconds from the beginning of the month (or year, or century);\n",
    "    - calculate their difference - i.e. travel time in seconds;\n",
    "    - convert this difference back to days, hours, minutes and seconds.\n",
    "\n",
    "Input data:\n",
    "    the first line contains number of test-cases, other lines contain test-cases themselves.\n",
    "    Each test-case contains 8 numbers, 4 for each timestamp:\n",
    "        day1 hour1 min1 sec1 day2 hour2 min2 sec2 (second timestamp will always be later than first).\n",
    "\n",
    "    3\n",
    "    1 0 0 0 2 3 4 5\n",
    "    5 3 23 22 24 4 20 45\n",
    "    8 4 6 47 9 11 51 13\n",
    "\n",
    "Answer:\n",
    "    for each test-case you are to output difference as following (days hours minutes seconds)\n",
    "     please note brackets - separated by spaces.\n",
    "\n",
    "    (1 3 4 5) (19 0 57 23) (1 7 44 26)\n",
    "\"\"\"\n",
    "\n",
    "from datetime import timedelta\n",
    "\n",
    "\n",
    "class Calculation:\n",
    "\n",
    "    def __init__(self):\n",
    "        self.result = []\n",
    "\n",
    "    def seconds_count(self):\n",
    "        day1, hour1, min1, sec1, day2, hour2, min2, sec2 = map(int, input().split())\n",
    "        datetime1 = timedelta(days=day1, hours=hour1, minutes=min1, seconds=sec1).total_seconds()\n",
    "        datetime2 = timedelta(days=day2, hours=hour2, minutes=min2, seconds=sec2).total_seconds()\n",
    "        x = datetime2 - datetime1\n",
    "\n",
    "        minutes, seconds = divmod(x, 60)\n",
    "        hours, minutes = divmod(minutes, 60)\n",
    "        days, hours = divmod(hours, 24)\n",
    "\n",
    "        self.result.append(f\"({int(days)} {int(hours)} {int(minutes)} {int(seconds)})\")\n",
    "\n",
    "    def conversion_back(self):\n",
    "        for _ in range(int(input())):\n",
    "            self.seconds_count()\n",
    "        print(*self.result)\n",
    "\n",
    "\n",
    "if __name__ == '__main__':\n",
    "    run = Calculation()\n",
    "    run.conversion_back()\n"
   ]
  }
 ],
 "metadata": {
  "kernelspec": {
   "display_name": "Python 3 (ipykernel)",
   "language": "python",
   "name": "python3"
  },
  "language_info": {
   "codemirror_mode": {
    "name": "ipython",
    "version": 3
   },
   "file_extension": ".py",
   "mimetype": "text/x-python",
   "name": "python",
   "nbconvert_exporter": "python",
   "pygments_lexer": "ipython3",
   "version": "3.10.7"
  }
 },
 "nbformat": 4,
 "nbformat_minor": 5
}
