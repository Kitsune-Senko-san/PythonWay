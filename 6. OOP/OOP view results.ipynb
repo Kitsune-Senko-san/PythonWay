{
 "cells": [
  {
   "cell_type": "markdown",
   "id": "10ad940d",
   "metadata": {},
   "source": [
    "<h1 align=\"center\"><b> OOP </b></h1>\n",
    "\n",
    "---\n",
    "\n",
    "\n",
    "   - #### Bank account"
   ]
  },
  {
   "cell_type": "code",
   "execution_count": 1,
   "id": "8a723138",
   "metadata": {},
   "outputs": [
    {
     "name": "stdout",
     "output_type": "stream",
     "text": [
      "Account owner:    Jose\n",
      "Account balance:  $100\n",
      "Deposit Accepted, total balance  ->  $150\n",
      "Withdrawal Accepted, balance decreases  ->  -$150\n",
      "Account owner:    Jose\n",
      "Account balance:  $0 \n",
      "\n",
      "Account owner:    Julie\n",
      "Account balance:  $5000\n",
      "Deposit Accepted, total balance  ->  $6000\n",
      "Funds Unavailable! The card doesn't have a sufficient amount ($6001)\n",
      "The card balance has not changed\n",
      "\n",
      "Account owner:    Bob\n",
      "Account balance:  $670\n",
      "There was no deposit\n",
      "Withdrawal Accepted, balance decreases  ->  -$600\n",
      "Account owner:    Bob\n",
      "Account balance:  $70 \n",
      "\n"
     ]
    }
   ],
   "source": [
    "\"\"\"\n",
    "For this challenge, create a bank account class that has two attributes:\n",
    "   - owner\n",
    "   - balance\n",
    "\n",
    "and two methods:\n",
    "   - deposit\n",
    "   - withdraw\n",
    "\n",
    "As an added requirement, withdrawals may not exceed the available balance.\n",
    "Instantiate your class, make several deposits and withdrawals, and test to make sure the account can't be overdrawn.\n",
    "\"\"\"\n",
    "\n",
    "\n",
    "class Account:\n",
    "    def __init__(self, owner, balance):\n",
    "        self.owner = owner\n",
    "        self.balance = balance\n",
    "\n",
    "    def deposit(self, new_deposit=0):\n",
    "        print(acc1)\n",
    "        self.balance += new_deposit\n",
    "        if new_deposit != 0:\n",
    "            print(\"Deposit Accepted, total balance  ->  ${}\".format(self.balance))\n",
    "        else:\n",
    "            print(\"There was no deposit\")\n",
    "\n",
    "    def withdraw(self, try_withdraw):\n",
    "        if self.balance < try_withdraw:\n",
    "            print(\"Funds Unavailable! The card doesn't have a sufficient amount (${})\".format(try_withdraw))\n",
    "            print(\"The card balance has not changed\\n\")\n",
    "        else:\n",
    "            print(\"Withdrawal Accepted, balance decreases  ->  -${}\".format(try_withdraw))\n",
    "            self.balance -= try_withdraw\n",
    "            print(acc1, \"\\n\")\n",
    "\n",
    "    def __str__(self):\n",
    "        return f\"Account owner:    {self.owner}\\nAccount balance:  ${self.balance}\"\n",
    "\n",
    "\n",
    "acc1 = Account(\"Jose\", 100)\n",
    "acc1.deposit(50)\n",
    "acc1.withdraw(150)\n",
    "\n",
    "\n",
    "acc1 = Account(\"Julie\", 5000)\n",
    "acc1.deposit(1000)\n",
    "acc1.withdraw(6001)\n",
    "\n",
    "\n",
    "acc1 = Account(\"Bob\", 670)\n",
    "acc1.deposit()\n",
    "acc1.withdraw(600)\n"
   ]
  },
  {
   "cell_type": "markdown",
   "id": "96b4b92c",
   "metadata": {},
   "source": [
    "---"
   ]
  },
  {
   "cell_type": "markdown",
   "id": "615e1e86",
   "metadata": {},
   "source": [
    "   - #### Slope & dictance of the line"
   ]
  },
  {
   "cell_type": "code",
   "execution_count": 2,
   "id": "47d13f48",
   "metadata": {},
   "outputs": [
    {
     "name": "stdout",
     "output_type": "stream",
     "text": [
      "9.433981132056603\n",
      "1.6\n"
     ]
    }
   ],
   "source": [
    "\"\"\"\n",
    "Fill in the Line class methods to accept coordinates as a list and tuple and return the slope and distance of the line\n",
    "\"\"\"\n",
    "\n",
    "\n",
    "class Line:\n",
    "    def __init__(self, coor1, coor2):\n",
    "        self.coor1 = coor1\n",
    "        self.coor2 = coor2\n",
    "\n",
    "    def distance(self):\n",
    "        x1, y1 = self.coor1\n",
    "        x2, y2 = self.coor2\n",
    "        return ((x2 - x1) ** 2 + (y2 - y1) ** 2) ** 0.5\n",
    "\n",
    "    def slope(self):\n",
    "        x1, y1 = self.coor1\n",
    "        x2, y2 = self.coor2\n",
    "        return (y2 - y1) / (x2 - x1)\n",
    "\n",
    "\n",
    "coordinate1 = [3, 2]\n",
    "coordinate2 = (8, 10)\n",
    "\n",
    "li = Line(coordinate1, coordinate2)\n",
    "\n",
    "print(li.distance())\n",
    "print(li.slope())\n"
   ]
  }
 ],
 "metadata": {
  "kernelspec": {
   "display_name": "Python 3 (ipykernel)",
   "language": "python",
   "name": "python3"
  },
  "language_info": {
   "codemirror_mode": {
    "name": "ipython",
    "version": 3
   },
   "file_extension": ".py",
   "mimetype": "text/x-python",
   "name": "python",
   "nbconvert_exporter": "python",
   "pygments_lexer": "ipython3",
   "version": "3.10.7"
  }
 },
 "nbformat": 4,
 "nbformat_minor": 5
}
