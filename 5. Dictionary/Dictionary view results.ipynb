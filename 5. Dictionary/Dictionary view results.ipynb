{
 "cells": [
  {
   "cell_type": "markdown",
   "id": "10ad940d",
   "metadata": {},
   "source": [
    "<h1 align=\"center\"><b> Dictionary </b></h1>\n",
    "\n",
    "---\n",
    "\n",
    "\n",
    "   - #### Counting the number of letters\n"
   ]
  },
  {
   "cell_type": "code",
   "execution_count": 1,
   "id": "8a723138",
   "metadata": {},
   "outputs": [
    {
     "name": "stdout",
     "output_type": "stream",
     "text": [
      "from 1 to 1111 numbers of letters: 23404\n"
     ]
    }
   ],
   "source": [
    "\"\"\"\n",
    "When the numbers one to five are written as words (one, two, three, four, five), the total number of letters used is 19\n",
    "(three for \"one,\" three for \"two,\" five for \"three,\" four for \"four,\" and four for \"five\").\n",
    "\n",
    "If all numbers from 1 to 1111 (inclusive) were written out as words, how many letters would be used?\n",
    "Don't count spaces or hyphens, and note that British usage includes the word \"and\" when writing out numbers.\n",
    "For instance, 342 (\"three hundred and forty-two\") contains 23 letters and 115 (\"one hundred and fifteen\") contains 20 letters.\n",
    "\"\"\"\n",
    "\n",
    "\n",
    "def number_to_words(num):\n",
    "    words_dict = {0: 'zero', 1: 'one', 2: 'two', 3: 'three', 4: 'four', 5: 'five', 6: 'six',\n",
    "                  7: 'seven', 8: 'eight', 9: 'nine', 10: 'ten', 11: 'eleven',\n",
    "                  12: 'twelve', 13: 'thirteen', 14: 'fourteen', 15: 'fifteen',\n",
    "                  16: 'sixteen', 17: 'seventeen', 18: 'eighteen', 19: 'nineteen',\n",
    "                  20: 'twenty', 30: 'thirty', 40: 'forty', 50: 'fifty',\n",
    "                  60: 'sixty', 70: 'seventy', 80: 'eighty', 90: 'ninety'}\n",
    "\n",
    "    if num in words_dict:\n",
    "        return words_dict[num]\n",
    "    elif num < 100:\n",
    "        return words_dict[num // 10 * 10] + '-' + words_dict[num % 10]\n",
    "    elif num < 1000:\n",
    "        if num % 100 == 0:\n",
    "            return words_dict[num // 100] + ' hundred'\n",
    "        else:\n",
    "            return words_dict[num // 100] + ' hundred and ' + number_to_words(num % 100)\n",
    "    elif num < 1200:\n",
    "        if num % 1000 == 0:\n",
    "            return words_dict[num // 1000] + ' thousand'\n",
    "        elif num < 1100:\n",
    "            return words_dict[num // 1000] + ' thousand ' + number_to_words(num % 100)\n",
    "        else:\n",
    "            return words_dict[num // 1000] + ' thousand ' + words_dict[num // 1000] + ' hundred and ' + number_to_words(num % 100)\n",
    "    else:\n",
    "        return 'number out of range'\n",
    "\n",
    "\n",
    "result = 0\n",
    "\n",
    "for i in range(1, 1112):\n",
    "    number = number_to_words(i)\n",
    "    space_count = number.count(' ')\n",
    "    hyphens_count = number.count('-')\n",
    "    result += len(number) - space_count - hyphens_count\n",
    "\n",
    "print(\"from 1 to 1111 numbers of letters:\", result)\n"
   ]
  },
  {
   "cell_type": "markdown",
   "id": "96b4b92c",
   "metadata": {},
   "source": [
    "---"
   ]
  }
 ],
 "metadata": {
  "kernelspec": {
   "display_name": "Python 3 (ipykernel)",
   "language": "python",
   "name": "python3"
  },
  "language_info": {
   "codemirror_mode": {
    "name": "ipython",
    "version": 3
   },
   "file_extension": ".py",
   "mimetype": "text/x-python",
   "name": "python",
   "nbconvert_exporter": "python",
   "pygments_lexer": "ipython3",
   "version": "3.10.7"
  }
 },
 "nbformat": 4,
 "nbformat_minor": 5
}
